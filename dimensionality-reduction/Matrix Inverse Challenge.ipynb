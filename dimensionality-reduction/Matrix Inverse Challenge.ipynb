{
 "cells": [
  {
   "cell_type": "markdown",
   "id": "a6aca81b",
   "metadata": {},
   "source": [
    "# Matrix inverse RBM Challenge\n",
    "\n",
    "The purpose of this challenge is for you to build a reduced basis emulator to invert a matrix of the form:\n",
    "\n",
    "\\begin{equation}\n",
    "A(\\epsilon)=1_{N\\times N}+\\epsilon U, \\text{ with } \\epsilon\\in[0,1]\n",
    "\\end{equation}\n",
    "\n",
    "With U a constant random matrix.\n",
    "\n",
    "The idea is to help motivate the use of reduced basis techniques for problems beyond the differential equation context presented in the talk. \n",
    "\n",
    "The inverse of $A$ is a matrix $B$ such that $BA=AB=1_{N\\times N}$\n",
    "\n",
    "In principle, we can expand $B(\\epsilon)$ as a linear combination of reduced basis matrices $\\{\\Phi\\}_k^n$\n",
    "\\begin{equation}\n",
    "\\hat{B}(\\epsilon)=\\sum_k^na_k(\\epsilon)\\Phi_k\n",
    "\\end{equation}\n",
    "\n",
    "Your tasks are:\n",
    "\n",
    "- Build your reduced basis $\\Phi_k$ from the principal components (singular value decomposition, or SVD) of a handful of solutions to the inverse  matrix equation. (You can use numpy's linalg. inv() method to find the inverse)\n",
    "\n",
    "(HINT): You for finding the SVD, you can unwrap the matrices as long vectors and inspire yourself with http://rbm.ascsn.net/scattering/scattering.html. \n",
    "\n",
    "- Create the reduced equations by projecting the matrix inverse equation onto the subspace made by your own reduced basis:\n",
    "\n",
    "\\begin{equation}\n",
    "   \\langle \\Phi_j| A\\hat{B}(\\epsilon)-1_{N\\times N}\\rangle =0 \\ \\text{for j=1, ... n}.\n",
    "\\end{equation}\n",
    "\n",
    "The projection in this case is done by using the Frobenius inner product of the matrices (pointwise multiply all entries and sum). Since everything is linear, this should reduce to a system of equations for the $a_k$:\n",
    "\n",
    "\\begin{equation}\n",
    "    \\tilde A_{j,k}(\\epsilon) = \\langle \\Phi_j(x) |  A(\\epsilon)   \\Phi_k(x) \\rangle,\n",
    "\\end{equation} \n",
    "\n",
    "and the equation reads:\n",
    "\\begin{equation}\n",
    "\\tilde{A}(\\epsilon)\\vec{a}=\\vec{b}\n",
    "\\end{equation}\n",
    "for some vector $\\vec{b}$ dependent on the trace of the principal component matrices. \n",
    "\n",
    "- Use a Computational Accuracy vs Time (CAT) plot to compare the results of solving this reduced problem with what could be obtained by using a truncated Taylor expansion:\n",
    "\n",
    "\\begin{equation}\n",
    "    A^{-1} = (1+\\epsilon U)^{-1}=\\sum_{k=0}^\\infty (\\epsilon U)^k,\n",
    "\\end{equation}\n",
    "\n",
    "- Attempt an inversion for a few values of $\\epsilon\\in [1,2]$. Compare the values obtained with the reduced basis and the Taylor expansion.\n"
   ]
  },
  {
   "cell_type": "code",
   "execution_count": 3,
   "id": "e1dd253c",
   "metadata": {},
   "outputs": [],
   "source": [
    "import numpy as np\n",
    "import time\n",
    "import timeit\n",
    "\n",
    "N=2000; #Large matrix dimension\n",
    "\n",
    "U=np.random.rand(N,N)/N; #U is normalized over N to ensure convergence of the Taylor expansion for later."
   ]
  },
  {
   "cell_type": "code",
   "execution_count": 5,
   "id": "60ed7b70",
   "metadata": {},
   "outputs": [],
   "source": [
    "#example value for A:\n",
    "epsilon=0.5; # This value must be between zero and 1\n",
    "A=np.identity(N)+epsilon*U; # U must remain fixed for all of this exercise."
   ]
  },
  {
   "cell_type": "code",
   "execution_count": null,
   "id": "93263e2c",
   "metadata": {},
   "outputs": [],
   "source": []
  }
 ],
 "metadata": {
  "kernelspec": {
   "display_name": "Python 3 (ipykernel)",
   "language": "python",
   "name": "python3"
  },
  "language_info": {
   "codemirror_mode": {
    "name": "ipython",
    "version": 3
   },
   "file_extension": ".py",
   "mimetype": "text/x-python",
   "name": "python",
   "nbconvert_exporter": "python",
   "pygments_lexer": "ipython3",
   "version": "3.9.12"
  }
 },
 "nbformat": 4,
 "nbformat_minor": 5
}
