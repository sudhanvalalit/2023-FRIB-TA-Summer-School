{
 "cells": [
  {
   "cell_type": "markdown",
   "id": "af66b173",
   "metadata": {},
   "source": [
    "# Ball Drop Challenge"
   ]
  },
  {
   "cell_type": "markdown",
   "id": "058ade66",
   "metadata": {},
   "source": [
    "Prepared by: Pablo Giuliani\n",
    "\n",
    "The purpose of this challenge is for you to build an emulator using a Gaussian Process from scikit-learn:\n",
    "https://scikit-learn.org/stable/auto_examples/gaussian_process/plot_gpr_noisy_targets.html#sphx-glr-auto-examples-gaussian-process-plot-gpr-noisy-targets-py\n",
    "\n",
    "to calibrate a model for a particle dropped from a height on a planet in the solar system. \n",
    "\n",
    "Below we sketch the first parts of the code, including the differential equation solver model which contains three parameters: a drag coefficient proportional to speed, another one proportional to the speed squared, and gravity. Your task is to\n",
    "\n",
    "- Train the Gaussian Process on various values of the parameters\n",
    "- Define your likelihood and prior functions\n",
    "- Calibrate your model through a Metropolis algorithm and obtain posterior samples\n",
    "- Estimate the value of the gravity to answer in which planet was this particle dropped.\n",
    "\n",
    "You can use the [Practical Example](https://github.com/ascsn/2023-FRIB-TA-Summer-School/blob/main/practical-bayes/Practical%20example.ipynb) notebook from Pablo's session to guide you on the Metropolis and Bayesian Calibration part!\n"
   ]
  },
  {
   "cell_type": "code",
   "execution_count": 1,
   "id": "43922f8f",
   "metadata": {},
   "outputs": [],
   "source": [
    "import numpy as np\n",
    "import matplotlib.pyplot as plt\n",
    "\n",
    "from scipy.integrate import solve_ivp\n"
   ]
  },
  {
   "cell_type": "code",
   "execution_count": 2,
   "id": "294eb141",
   "metadata": {},
   "outputs": [],
   "source": [
    "#You will probably need something from:\n",
    "from sklearn.gaussian_process import GaussianProcessRegressor\n",
    "from sklearn.gaussian_process.kernels import RBF"
   ]
  },
  {
   "cell_type": "code",
   "execution_count": 3,
   "id": "de76a8e6",
   "metadata": {},
   "outputs": [],
   "source": [
    "# Define the global variables\n",
    "\n",
    "mass = 1.0\n",
    "\n",
    "# Define the time span\n",
    "t_span = (0, 15)\n",
    "\n",
    "t_eval = np.linspace(t_span[0], t_span[1], 1000)\n",
    "\n",
    "# Define the initial condition\n",
    "initial_conditions = [100, 0.0]"
   ]
  },
  {
   "cell_type": "code",
   "execution_count": 4,
   "id": "c7d4fb1f",
   "metadata": {},
   "outputs": [],
   "source": [
    "# Define the differential equation\n",
    "def particle_motion(t, state, args):\n",
    "    \n",
    "    drag_coefficient_1,drag_coefficient_2, g =args\n",
    "    \n",
    "    position, speed = state\n",
    "    \n",
    "    # Calculate the drag force\n",
    "    drag_force = drag_coefficient_1 * speed +drag_coefficient_2*speed**2\n",
    "    \n",
    "    # Calculate the acceleration\n",
    "    acceleration = -g + (drag_force) / mass\n",
    "    \n",
    "    return [speed, acceleration]\n",
    "\n",
    "\n",
    "# ODE Solver\n",
    "\n",
    "def system_solution(d_coeff_1,d_coeff_2,gravity):\n",
    "    return solve_ivp(particle_motion, t_span, initial_conditions,rtol=10**(-10), dense_output=True,\n",
    "                     atol=10**(-10),t_eval=t_eval,args=[[d_coeff_1,d_coeff_2,gravity]])\n",
    "\n"
   ]
  },
  {
   "cell_type": "code",
   "execution_count": 5,
   "id": "eff0ab5e",
   "metadata": {},
   "outputs": [],
   "source": [
    "solution_example=system_solution(0.01,0.002,10)\n",
    "\n",
    "t=solution_example.t\n",
    "position=solution_example.y[0]\n",
    "speed=solution_example.y[1]\n"
   ]
  },
  {
   "cell_type": "code",
   "execution_count": 6,
   "id": "aa6df305",
   "metadata": {},
   "outputs": [
    {
     "data": {
      "image/png": "[encoded data removed]",
      "text/plain": [
       "<Figure size 864x432 with 2 Axes>"
      ]
     },
     "metadata": {
      "needs_background": "light"
     },
     "output_type": "display_data"
    }
   ],
   "source": [
    "fig, axes = plt.subplots(1, 2, figsize=(12, 6))  # Set the figsize according to your preference\n",
    "\n",
    "\n",
    "\n",
    "axes[0].plot(t, position, label='Position')\n",
    "axes[0].set_xlabel('Time [s]',fontsize=20)\n",
    "axes[0].set_ylabel('Position  [m]',fontsize=20)\n",
    "axes[0].set_title('Particle Motion with Drag')\n",
    "\n",
    "\n",
    "axes[1].plot(t, speed, label='Speed',color='orange')\n",
    "axes[1].set_xlabel('Time [s]',fontsize=20)\n",
    "axes[1].set_ylabel('Speed [m/s]',fontsize=20)\n",
    "axes[1].set_title('Particle Motion with Drag')\n",
    "\n",
    "\n",
    "# Adjust the spacing between subplots\n",
    "plt.subplots_adjust(wspace=0.3) \n",
    "\n",
    "plt.rc('xtick', labelsize=15)  \n",
    "plt.rc('ytick', labelsize=15)\n",
    "\n",
    "# Display the figures\n",
    "plt.show()"
   ]
  },
  {
   "cell_type": "code",
   "execution_count": 7,
   "id": "6ca07b2f",
   "metadata": {},
   "outputs": [],
   "source": [
    "noise_level=5"
   ]
  },
  {
   "cell_type": "code",
   "execution_count": 8,
   "id": "0e61f5d7",
   "metadata": {},
   "outputs": [],
   "source": [
    "y_vals_observed=np.array([103.62232114, 105.29080317, 100.44339264,  89.68472992,\n",
    "        95.66531079,  95.02952019, 100.59440023, 101.22990018,\n",
    "        92.65980853,  92.69221497,  97.13731823,  97.36679435,\n",
    "        99.10359091,  94.17310372,  86.32484148,  92.91443669,\n",
    "        91.83084944,  80.57475841,  77.13414132,  76.94333708,\n",
    "        77.18032093,  65.69391499,  68.67817178,  81.44078949,\n",
    "        80.30046612,  88.07647124,  67.67693737,  82.78013748,\n",
    "        75.1125216 ,  77.9535926 ,  76.65581428,  70.12187839,\n",
    "        68.43959951,  70.75166396,  69.07837781,  63.77735318,\n",
    "        51.14022   ,  62.5769828 ,  62.81513541,  46.33905685,\n",
    "        59.81468355,  46.68396545,  52.91635131,  39.19593866,\n",
    "        43.29087894,  51.35314232,  41.62299135,  41.56184399,\n",
    "        37.5931934 ,  39.9917403 ])"
   ]
  },
  {
   "cell_type": "code",
   "execution_count": 9,
   "id": "c27ff8e0",
   "metadata": {},
   "outputs": [],
   "source": [
    "t_values=np.array([ 0.54267249,  1.99483679,  2.50687832,  2.64532764,  2.72700296,\n",
    "        2.86483181,  2.91343506,  2.93586464,  3.21823105,  3.52676705,\n",
    "        3.67022733,  3.76974703,  4.08435481,  5.0298317 ,  5.11431331,\n",
    "        5.48832694,  5.49984705,  6.09810127,  6.81743628,  7.38473315,\n",
    "        7.58085367,  7.64712002,  7.78169343,  8.09725527,  8.11112092,\n",
    "        8.29254051,  8.44779801,  8.48286677,  8.5641226 ,  8.84258994,\n",
    "        8.9015199 ,  9.61055831,  9.62224796, 10.01454791, 10.31744269,\n",
    "       10.40774307, 10.95442955, 10.97667019, 11.3065361 , 11.39017067,\n",
    "       11.58646398, 11.91024335, 12.03612255, 12.03873328, 12.30519789,\n",
    "       12.41452534, 12.9007328 , 13.02796576, 13.94053357, 13.94763475])"
   ]
  },
  {
   "cell_type": "code",
   "execution_count": 10,
   "id": "38117ad7",
   "metadata": {},
   "outputs": [],
   "source": [
    "#The error assumed in the observations. We assume it is Gaussian and the same on all of them\n",
    "noise_level=5"
   ]
  },
  {
   "cell_type": "code",
   "execution_count": 11,
   "id": "21566ba8",
   "metadata": {},
   "outputs": [
    {
     "data": {
      "image/png": "[encoded data removed]",
      "text/plain": [
       "<Figure size 432x432 with 1 Axes>"
      ]
     },
     "metadata": {
      "needs_background": "light"
     },
     "output_type": "display_data"
    }
   ],
   "source": [
    "fig, axes = plt.subplots(1, 1, figsize=(6, 6))  # Set the figsize according to your preference\n",
    "\n",
    "# Plot the first figure\n",
    "\n",
    "# axes.plot(t_exact, position_exact, label='Position')\n",
    "\n",
    "\n",
    "axes.errorbar(t_values, y_vals_observed, np.full(len(y_vals_observed),2*noise_level),\n",
    "                   fmt='o', linewidth=2,capsize=7,label='Data [95% Errors]',color='r')\n",
    "\n",
    "axes.set_xlabel('Time [s]',fontsize=20)\n",
    "axes.set_ylabel('Position  [m]',fontsize=20)\n",
    "axes.set_title('Particle Motion with Drag')\n",
    "\n",
    "\n",
    "\n",
    "\n",
    "\n",
    "\n",
    "# Adjust the spacing between subplots\n",
    "plt.subplots_adjust(wspace=0.3)  # Set the spacing according to your preference\n",
    "\n",
    "plt.rc('xtick', labelsize=15)    # fontsize of the tick labels\n",
    "plt.rc('ytick', labelsize=15)\n",
    "\n",
    "# Display the figures\n",
    "plt.show()"
   ]
  },
  {
   "cell_type": "markdown",
   "id": "abff8b22",
   "metadata": {},
   "source": [
    "This is how the data looks like. \n",
    "\n",
    "Now it is your turn, check the documentation for training a Gaussian Process emulator at https://scikit-learn.org/stable/auto_examples/gaussian_process/plot_gpr_noisy_targets.html#sphx-glr-auto-examples-gaussian-process-plot-gpr-noisy-targets-py, and start building your emulator for system_solution(d_coeff_1,d_coeff_2,gravity).\n",
    "\n",
    "Hint: start by making a function that takes four variables, a time value t, and the three parameters. This is the function you want your GP to learn from. Good luck!\n",
    "\n",
    "Also, once you passed through the painful process of building your own GP, go and check the BAND tools that make this way easier: \n",
    "\n",
    "https://surmise.readthedocs.io/en/latest/examples.html"
   ]
  },
  {
   "cell_type": "code",
   "execution_count": null,
   "id": "484956dc",
   "metadata": {},
   "outputs": [],
   "source": []
  }
 ],
 "metadata": {
  "kernelspec": {
   "display_name": "Python 3 (ipykernel)",
   "language": "python",
   "name": "python3"
  },
  "language_info": {
   "codemirror_mode": {
    "name": "ipython",
    "version": 3
   },
   "file_extension": ".py",
   "mimetype": "text/x-python",
   "name": "python",
   "nbconvert_exporter": "python",
   "pygments_lexer": "ipython3",
   "version": "3.10.10"
  }
 },
 "nbformat": 4,
 "nbformat_minor": 5
}
