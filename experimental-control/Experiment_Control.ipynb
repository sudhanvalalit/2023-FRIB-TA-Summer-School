{
 "cells": [
  {
   "cell_type": "markdown",
   "metadata": {},
   "source": [
    "# Experiment Control - Tuning Beam Through SECAR\n",
    "\n",
    "### Authors: Fernando Montes, Rahul Jain, Pelagia Tsintari\n",
    "\n",
    "The goal of this project is to successfully tune a beam through the SECAR beamline using Bayesian Optimization. While doing so, your objective will be to optimize the beam spot and resolving power of the device. \n",
    "\n",
    "\n",
    "\n",
    "![SECAR](secar.jpeg)\n",
    "\n",
    "## Secar\n",
    "\n",
    "SEparator for CApture Reactions (SECAR) is a next-generation recoil separator designed to measure the reaction cross-sections for nuclear reactions of astrophysical interest. It does so by separating the products of the nuclear reactions from the unreacted beam using a series of magnets. Such measurements are extremely challenging because of the low cross-sections, meaning only a few out of billions and billions of colliding particles will undergo the nuclear reaction and all the unreacted particles contribute to the noise. SECAR is intentionally designed in a way that it can successfully separate even a single reaction product from up to $10^{18}$ unreacted beam particles. You can learn more about the device at http://secar.space/\n",
    "\n",
    "There are a series of different types of magnets that help SECAR achieve this feat:\n",
    "- **Diploes**: These are magnets that bend the beam with a particular charge to mass ratio at a certain angle. As a result, the reaction products and unreacted beam are bent at different angles, thereby helping us separate the two. \n",
    "- **Quadrupoles**: These are the magnets that help focus the beam, to keep it traveling within the beamline. These also ensure that the recoils (reaction products) and unreacted beam are focused at different spots with the largest distance between them. \n",
    "- **Higher Order magnets**: These also help focus the beam and to correct for other non-linear effects.  \n",
    "- **Wien Filters**: These are velocity filters that separate particles based on the velocity they are traveling at. They have an electric field and a magnetic field perpendicular to each other such that their ratio dictates what velocity particles will pass through undeflected. This is also useful for separation since the recoils and unreacted beam have different velocities.\n",
    "\n",
    "## Task Description\n",
    "\n",
    "You are provided with a toy SECAR simulation software package (secar.py) that let's you set your magnets (quadrupoles) and outputs an image of the recoils spot at intermediate focal planes.\n",
    "\n",
    "Your toy SECAR is nominally set to focus on the products of the nuclear reaction $^{65}As (p, \\gamma) ^{66}Se$, i.e. proton capture on $^{65}As$ leading to the product $^{66}Se$. Since the reaction product can be in a variety of charge-states (no. of electrons), we are specifically considering the $^{66}Se^{21+}$ charge state for the given energy.\n",
    "\n",
    "Using the helper code below, complete the exercises in this notebook. \n"
   ]
  },
  {
   "cell_type": "code",
   "execution_count": null,
   "metadata": {},
   "outputs": [],
   "source": [
    "# !pip install seaborn\n",
    "\n",
    "import numpy as np\n",
    "import matplotlib.pyplot as plt\n",
    "import seaborn as sns\n",
    "import secar"
   ]
  },
  {
   "cell_type": "code",
   "execution_count": null,
   "metadata": {},
   "outputs": [],
   "source": [
    "# set-up the recoil separator\n",
    "\n",
    "mass = 66 # particle mass in amu\n",
    "charge = 21 # particle charge in e\n",
    "energy = 206/mass # Energy of particle in MeV/u\n",
    "muc2 = 931.494 # amu in MeV\n",
    "brho = 33.3564*np.sqrt((muc2+energy)**2-muc2**2)/1000*mass/charge/10 # Magnetic rigidity for dipoles\n",
    "gamma = (energy + muc2)/muc2 # Relativistic Lorentz Factor\n",
    "\n",
    "# Next, we set our nominal values for the Quadrupoles Q1 - Q4. These are the values we will change for tuning\n",
    "\n",
    "Q1s = 1.0 # Vertical focus\n",
    "Q2s = 1.0 # Horizontal focus\n",
    "Q3s = 1.0 # Horizontal focus\n",
    "Q4s = 1.5 # Vertical focus\n",
    "Q5s = 3.0 # Horizontal focus\n",
    "Q6s = 2.0 # Horizontal focus\n",
    "Q7s = 2.3 # Vertical focus\n",
    "Q8s = 2.5 # Horizontal focus"
   ]
  },
  {
   "cell_type": "code",
   "execution_count": null,
   "metadata": {},
   "outputs": [],
   "source": [
    "# Pass the beam through SECAR with these magnet settings and get an image of the beam spot on the viewers\n",
    "\n",
    "recoils = secar.secar(brho = brho, gamma = gamma, \\\n",
    "                Q1s = Q1s, Q2s = Q2s, Q3s = Q3s, Q4s = Q4s, Q5s = Q5s, Q6s = Q6s, Q7s = Q7s, Q8s = Q8s)\n",
    "\n",
    "viewer_images = secar.plotViewers(recoils)"
   ]
  },
  {
   "cell_type": "code",
   "execution_count": null,
   "metadata": {},
   "outputs": [],
   "source": [
    "# Next, we try to get the image of the unreacted beam on our viewers\n",
    "\n",
    "dM = -1/mass # mass fractional change\n",
    "\n",
    "unreacted = secar.secar(brho = brho, gamma = gamma, dM = dM, dE = -0.01481,\\\n",
    "                Q1s = Q1s, Q2s = Q2s, Q3s = Q3s, Q4s = Q4s, Q5s = Q5s, Q6s = Q6s, Q7s = Q7s, Q8s = Q8s)\n",
    "\n",
    "viewer_images = secar.plotViewers(unreacted)\n"
   ]
  },
  {
   "cell_type": "markdown",
   "metadata": {},
   "source": [
    "**Exercise**: How do the different magnet settings change the beam-spot for the recoils as well as the unreacted beam?"
   ]
  },
  {
   "cell_type": "code",
   "execution_count": null,
   "metadata": {},
   "outputs": [],
   "source": [
    "# Next, look at the optics of how the particles are moving in our beamline\n",
    "\n",
    "opt = secar.plotOptics(recoils,unreacted)"
   ]
  },
  {
   "cell_type": "markdown",
   "metadata": {},
   "source": [
    "**Exercise**: What is the most crucial element for separation with these optics? Can we do better?"
   ]
  },
  {
   "cell_type": "code",
   "execution_count": null,
   "metadata": {},
   "outputs": [],
   "source": [
    "# Next we look at the width of the beam spots and the Resolving Power at both the focal planes\n",
    "# Resolving power is the ratio of distance between recoils and unreacted beam to the width of recoils\n",
    "\n",
    "w1, w2 = secar.get_width(recoils)\n",
    "print(w1, w2)\n",
    "\n",
    "R1, R2 = secar.get_resolving_power(recoils, unreacted)\n",
    "print(R1, R2)"
   ]
  },
  {
   "cell_type": "markdown",
   "metadata": {},
   "source": [
    "## Optimization\n",
    "\n",
    "Now that you are famaliar with the SECAR package, we will try to tune the beam using Bayesian Optimization and Gaussian Processes. We will use the python package GPyOpt https://sheffieldml.github.io/GPyOpt/ for the same. \n",
    "\n",
    "We have two objectives here:\n",
    "- Minimize the width of the beam spots\n",
    "- Maximize the resolving power of the device"
   ]
  },
  {
   "cell_type": "code",
   "execution_count": null,
   "metadata": {},
   "outputs": [],
   "source": [
    "# !pip install numpy==1.16.6\n",
    "# !pip install GPy\n",
    "# !pip install GPyOpt\n",
    "import GPyOpt\n",
    "from GPyOpt.methods import BayesianOptimization"
   ]
  },
  {
   "cell_type": "code",
   "execution_count": null,
   "metadata": {},
   "outputs": [],
   "source": [
    "# Define the objective function - Beam Spot width at FP1\n",
    "\n",
    "def obj_BeamSpot_FP1(Qs):\n",
    "    Q1s = Qs[0]\n",
    "    Q2s = Qs[1]\n",
    "    recoils = secar.secar(brho = brho, gamma = gamma, \\\n",
    "                Q1s = Q1s, Q2s = Q2s, Q3s = Q3s, Q4s = Q4s, Q5s = Q5s, Q6s = Q6s, Q7s = Q7s, Q8s = Q8s)\n",
    "    unreacted = secar.secar(brho = brho, gamma = gamma, dM = -1/mass, dE = -0.01481, NumberParticles = 1,\\\n",
    "                Q1s = Q1s, Q2s = Q2s, Q3s = Q3s, Q4s = Q4s, Q5s = Q5s, Q6s = Q6s, Q7s = Q7s, Q8s = Q8s)\n",
    "    w1, w2 = secar.get_width(recoils)\n",
    "    return w1"
   ]
  },
  {
   "cell_type": "code",
   "execution_count": null,
   "metadata": {},
   "outputs": [],
   "source": [
    "# Perform the Optimization\n",
    "\n",
    "bounds2d = [{'name': 'Q1s', 'type': 'continuous', 'domain': (0,5)},\n",
    "            {'name': 'Q2s', 'type': 'continuous', 'domain': (0,5)}]\n",
    "maxiter = 100\n",
    "optimizer = GPyOpt.methods.BayesianOptimization(obj_BeamSpot_FP1, domain=bounds2d, acquisition_type ='LCB')\n",
    "myBopt_2d.run_optimization(max_iter = maxiter)"
   ]
  },
  {
   "cell_type": "code",
   "execution_count": null,
   "metadata": {},
   "outputs": [],
   "source": [
    "# Check your results\n",
    "\n",
    "myBopt_2d.plot_acquisition()\n",
    "myBopt_2d.plot_convergence()"
   ]
  },
  {
   "cell_type": "markdown",
   "metadata": {},
   "source": [
    "**Exercise**: Did your optimizer help improve your tune? How do you interpret your results?\n",
    "**Exercise**: How do the hyperparameters of the optimizer affect your results? For example, different domains, different acquisition functions, etc. \n",
    "\n",
    "## Tasks \n",
    "From this point here on, you can pretty much chart your own path. See which quads you can optimize for finding a better tune. Your objectives remain the same - \n",
    "- Reduce the beam spot size to focus the beam \n",
    "- Increase the resolution of the device for better performance. \n",
    "\n",
    "Create your custom objective function, vary all or one quad at a time, vary groups of them in sequence, etc. etc. ....\n",
    "**Good Luck!!!**"
   ]
  },
  {
   "cell_type": "code",
   "execution_count": null,
   "metadata": {},
   "outputs": [],
   "source": []
  }
 ],
 "metadata": {
  "kernelspec": {
   "display_name": "Python 3",
   "language": "python",
   "name": "python3"
  },
  "language_info": {
   "codemirror_mode": {
    "name": "ipython",
    "version": 3
   },
   "file_extension": ".py",
   "mimetype": "text/x-python",
   "name": "python",
   "nbconvert_exporter": "python",
   "pygments_lexer": "ipython3",
   "version": "3.7.1"
  }
 },
 "nbformat": 4,
 "nbformat_minor": 2
}
